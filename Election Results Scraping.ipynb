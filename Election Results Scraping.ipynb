{
 "cells": [
  {
   "cell_type": "code",
   "execution_count": 21,
   "id": "86d0f4ed",
   "metadata": {},
   "outputs": [],
   "source": [
    "from selenium import webdriver\n",
    "from selenium.webdriver.chrome.service import Service\n",
    "from selenium.webdriver.common.by import By\n",
    "from selenium.webdriver.common.keys import Keys\n",
    "import time\n",
    "from selenium.webdriver.support.ui import Select\n",
    "import pandas as pd"
   ]
  },
  {
   "cell_type": "markdown",
   "id": "5d047e17",
   "metadata": {},
   "source": [
    "## Let's do it for Andaman & Nicobar Island First"
   ]
  },
  {
   "cell_type": "code",
   "execution_count": 22,
   "id": "12a22407",
   "metadata": {},
   "outputs": [],
   "source": [
    "# Open a window of chrome using \n",
    "s=Service('C:/Users/sharm/Downloads/chromedriver-win32/chromedriver-win32/chromedriver.exe')\n",
    "driver=webdriver.Chrome(service=s)\n",
    "\n",
    "#Launching the website\n",
    "driver.get(\"https://results.eci.gov.in/PcResultGenJune2024/index.htm\")\n",
    "# Give the page some time to load\n",
    "time.sleep(1)\n",
    "\n",
    "# Selecting the Option from dropdown\n",
    "dropdown = driver.find_element(By.ID, 'ctl00_ContentPlaceHolder1_Result1_ddlState')\n",
    "select = Select(dropdown)\n",
    "select.select_by_visible_text('Andaman & Nicobar Islands') \n",
    "\n",
    "#Finding the table path where the data is stored\n",
    "table = driver.find_element(By.XPATH, '/html/body/main/div[2]/section/div/div/div[1]/div/div[2]/div/div/table') \n",
    "\n",
    "# Extract the data into a DataFrame\n",
    "rows = table.find_elements(By.TAG_NAME, 'tr')\n",
    "data = []\n",
    "for row in rows:\n",
    "    cols = row.find_elements(By.TAG_NAME, 'td')\n",
    "    if cols:  # This skips the header row if present\n",
    "        data.append([col.text for col in cols])\n",
    "        \n",
    "# Convert the list of data into a DataFrame\n",
    "df = pd.DataFrame(data, columns=['Party', 'Won', 'Leading', 'Total'])\n",
    "\n",
    "# Add a new column for the state\n",
    "df['State'] = 'Andaman & Nicobar Islands'\n",
    "\n",
    "driver.quit()"
   ]
  },
  {
   "cell_type": "code",
   "execution_count": 23,
   "id": "bf58aacd",
   "metadata": {
    "scrolled": false
   },
   "outputs": [
    {
     "data": {
      "text/html": [
       "<div>\n",
       "<style scoped>\n",
       "    .dataframe tbody tr th:only-of-type {\n",
       "        vertical-align: middle;\n",
       "    }\n",
       "\n",
       "    .dataframe tbody tr th {\n",
       "        vertical-align: top;\n",
       "    }\n",
       "\n",
       "    .dataframe thead th {\n",
       "        text-align: right;\n",
       "    }\n",
       "</style>\n",
       "<table border=\"1\" class=\"dataframe\">\n",
       "  <thead>\n",
       "    <tr style=\"text-align: right;\">\n",
       "      <th></th>\n",
       "      <th>Party</th>\n",
       "      <th>Won</th>\n",
       "      <th>Leading</th>\n",
       "      <th>Total</th>\n",
       "      <th>State</th>\n",
       "    </tr>\n",
       "  </thead>\n",
       "  <tbody>\n",
       "    <tr>\n",
       "      <th>0</th>\n",
       "      <td>Bharatiya Janata Party - BJP</td>\n",
       "      <td>1</td>\n",
       "      <td>0</td>\n",
       "      <td>1</td>\n",
       "      <td>Andaman &amp; Nicobar Islands</td>\n",
       "    </tr>\n",
       "  </tbody>\n",
       "</table>\n",
       "</div>"
      ],
      "text/plain": [
       "                          Party Won Leading Total                      State\n",
       "0  Bharatiya Janata Party - BJP   1       0     1  Andaman & Nicobar Islands"
      ]
     },
     "execution_count": 23,
     "metadata": {},
     "output_type": "execute_result"
    }
   ],
   "source": [
    "df"
   ]
  },
  {
   "cell_type": "markdown",
   "id": "29120704",
   "metadata": {},
   "source": [
    "## Done for Andaman and Nicobar .... Now let's do it for all the states...."
   ]
  },
  {
   "cell_type": "markdown",
   "id": "885cc56c",
   "metadata": {},
   "source": [
    "#### Using Beautiful Soup to Extract all statenames"
   ]
  },
  {
   "cell_type": "code",
   "execution_count": 2,
   "id": "f3cdf620",
   "metadata": {},
   "outputs": [],
   "source": [
    "import requests\n",
    "from bs4 import BeautifulSoup"
   ]
  },
  {
   "cell_type": "code",
   "execution_count": 3,
   "id": "466dec26",
   "metadata": {},
   "outputs": [],
   "source": [
    "url='https://results.eci.gov.in/PcResultGenJune2024/index.htm'\n",
    "headers={'User-Agent':'Mozilla/5.0 (Windows NT 6.3; Win 64 ; x64) Apple WeKit /537.36(KHTML , like Gecko) Chrome/80.0.3987.162 Safari/537.36'}"
   ]
  },
  {
   "cell_type": "code",
   "execution_count": 34,
   "id": "3da15a3a",
   "metadata": {},
   "outputs": [],
   "source": [
    "webpage=requests.get(url=url, headers=headers).text"
   ]
  },
  {
   "cell_type": "code",
   "execution_count": 35,
   "id": "61b33690",
   "metadata": {},
   "outputs": [],
   "source": [
    "soup=BeautifulSoup(webpage, 'lxml')"
   ]
  },
  {
   "cell_type": "code",
   "execution_count": 39,
   "id": "887ca663",
   "metadata": {},
   "outputs": [],
   "source": [
    "dropdown=soup.find('select', attrs={'id': 'ctl00_ContentPlaceHolder1_Result1_ddlState'})"
   ]
  },
  {
   "cell_type": "code",
   "execution_count": 40,
   "id": "8ceeda66",
   "metadata": {},
   "outputs": [],
   "source": [
    "states = [option.text for option in dropdown.find_all('option') if option.text.strip() != \"Select State Wise\"]"
   ]
  },
  {
   "cell_type": "code",
   "execution_count": 41,
   "id": "19e3d693",
   "metadata": {},
   "outputs": [
    {
     "data": {
      "text/plain": [
       "['Andaman & Nicobar Islands',\n",
       " 'Andhra Pradesh',\n",
       " 'Arunachal Pradesh',\n",
       " 'Assam',\n",
       " 'Bihar',\n",
       " 'Chandigarh',\n",
       " 'Chhattisgarh',\n",
       " 'Dadra & Nagar Haveli and Daman & Diu',\n",
       " 'Goa',\n",
       " 'Gujarat',\n",
       " 'Haryana',\n",
       " 'Himachal Pradesh',\n",
       " 'Jammu and Kashmir',\n",
       " 'Jharkhand',\n",
       " 'Karnataka',\n",
       " 'Kerala',\n",
       " 'Ladakh',\n",
       " 'Lakshadweep',\n",
       " 'Madhya Pradesh',\n",
       " 'Maharashtra',\n",
       " 'Manipur',\n",
       " 'Meghalaya',\n",
       " 'Mizoram',\n",
       " 'Nagaland',\n",
       " 'NCT OF Delhi',\n",
       " 'Odisha',\n",
       " 'Puducherry',\n",
       " 'Punjab',\n",
       " 'Rajasthan',\n",
       " 'Sikkim',\n",
       " 'Tamil Nadu',\n",
       " 'Telangana',\n",
       " 'Tripura',\n",
       " 'Uttar Pradesh',\n",
       " 'Uttarakhand',\n",
       " 'West Bengal']"
      ]
     },
     "execution_count": 41,
     "metadata": {},
     "output_type": "execute_result"
    }
   ],
   "source": [
    "states"
   ]
  },
  {
   "cell_type": "code",
   "execution_count": 48,
   "id": "85c10ddf",
   "metadata": {},
   "outputs": [],
   "source": [
    "# Prepare a list to collect all data\n",
    "all_data = []\n",
    "\n",
    "for i in states:\n",
    "    # Open a window of chrome using \n",
    "    s=Service('C:/Users/sharm/Downloads/chromedriver-win32/chromedriver-win32/chromedriver.exe')\n",
    "    driver=webdriver.Chrome(service=s)\n",
    "\n",
    "    #Launching the website\n",
    "    driver.get(\"https://results.eci.gov.in/PcResultGenJune2024/index.htm\")\n",
    "    # Give the page some time to load\n",
    "    time.sleep(1)\n",
    "    \n",
    "    # Selecting the Option from dropdown\n",
    "    dropdown = driver.find_element(By.ID, 'ctl00_ContentPlaceHolder1_Result1_ddlState')\n",
    "    select = Select(dropdown)\n",
    "    state_name=str(i)\n",
    "    select.select_by_visible_text(state_name)\n",
    "\n",
    "    # Extract table data\n",
    "    table = driver.find_element(By.XPATH, '/html/body/main/div[2]/section/div/div/div[1]/div/div[2]/div/div/table')\n",
    "    rows = table.find_elements(By.TAG_NAME, 'tr')\n",
    "    for row in rows[1:]:  # Assuming the first row is headers\n",
    "        cols = row.find_elements(By.TAG_NAME, 'td')\n",
    "        if cols:\n",
    "            row_data = [col.text for col in cols]\n",
    "            all_data.append([state_name] + row_data)\n",
    "\n",
    "    \n",
    "# Convert all collected data into a DataFrame\n",
    "columns = ['State', 'Party', 'Won', 'Leading', 'Total']  # Adjust column headers based on actual data\n",
    "df_whole = pd.DataFrame(all_data, columns=columns)\n",
    "\n",
    "# Clean up\n",
    "driver.quit()\n"
   ]
  },
  {
   "cell_type": "code",
   "execution_count": 61,
   "id": "7d3682a6",
   "metadata": {
    "scrolled": true
   },
   "outputs": [
    {
     "data": {
      "text/html": [
       "<div>\n",
       "<style scoped>\n",
       "    .dataframe tbody tr th:only-of-type {\n",
       "        vertical-align: middle;\n",
       "    }\n",
       "\n",
       "    .dataframe tbody tr th {\n",
       "        vertical-align: top;\n",
       "    }\n",
       "\n",
       "    .dataframe thead th {\n",
       "        text-align: right;\n",
       "    }\n",
       "</style>\n",
       "<table border=\"1\" class=\"dataframe\">\n",
       "  <thead>\n",
       "    <tr style=\"text-align: right;\">\n",
       "      <th></th>\n",
       "      <th>State</th>\n",
       "      <th>Party</th>\n",
       "      <th>Won</th>\n",
       "      <th>Leading</th>\n",
       "      <th>Total</th>\n",
       "    </tr>\n",
       "  </thead>\n",
       "  <tbody>\n",
       "    <tr>\n",
       "      <th>0</th>\n",
       "      <td>Andaman &amp; Nicobar Islands</td>\n",
       "      <td>Bharatiya Janata Party - BJP</td>\n",
       "      <td>1</td>\n",
       "      <td>0</td>\n",
       "      <td>1</td>\n",
       "    </tr>\n",
       "    <tr>\n",
       "      <th>1</th>\n",
       "      <td>Andhra Pradesh</td>\n",
       "      <td>Telugu Desam - TDP</td>\n",
       "      <td>16</td>\n",
       "      <td>0</td>\n",
       "      <td>16</td>\n",
       "    </tr>\n",
       "    <tr>\n",
       "      <th>2</th>\n",
       "      <td>Andhra Pradesh</td>\n",
       "      <td>Yuvajana Sramika Rythu Congress Party - YSRCP</td>\n",
       "      <td>4</td>\n",
       "      <td>0</td>\n",
       "      <td>4</td>\n",
       "    </tr>\n",
       "    <tr>\n",
       "      <th>3</th>\n",
       "      <td>Andhra Pradesh</td>\n",
       "      <td>Bharatiya Janata Party - BJP</td>\n",
       "      <td>3</td>\n",
       "      <td>0</td>\n",
       "      <td>3</td>\n",
       "    </tr>\n",
       "    <tr>\n",
       "      <th>4</th>\n",
       "      <td>Andhra Pradesh</td>\n",
       "      <td>Janasena Party - JnP</td>\n",
       "      <td>2</td>\n",
       "      <td>0</td>\n",
       "      <td>2</td>\n",
       "    </tr>\n",
       "  </tbody>\n",
       "</table>\n",
       "</div>"
      ],
      "text/plain": [
       "                       State                                          Party  \\\n",
       "0  Andaman & Nicobar Islands                   Bharatiya Janata Party - BJP   \n",
       "1             Andhra Pradesh                             Telugu Desam - TDP   \n",
       "2             Andhra Pradesh  Yuvajana Sramika Rythu Congress Party - YSRCP   \n",
       "3             Andhra Pradesh                   Bharatiya Janata Party - BJP   \n",
       "4             Andhra Pradesh                           Janasena Party - JnP   \n",
       "\n",
       "   Won  Leading  Total  \n",
       "0    1        0      1  \n",
       "1   16        0     16  \n",
       "2    4        0      4  \n",
       "3    3        0      3  \n",
       "4    2        0      2  "
      ]
     },
     "execution_count": 61,
     "metadata": {},
     "output_type": "execute_result"
    }
   ],
   "source": [
    "df_whole.head()"
   ]
  },
  {
   "cell_type": "markdown",
   "id": "3d54d737",
   "metadata": {},
   "source": [
    "### Data Cleaning"
   ]
  },
  {
   "cell_type": "code",
   "execution_count": 60,
   "id": "3d4e89da",
   "metadata": {},
   "outputs": [],
   "source": [
    "df_whole=df_whole.astype({'Won':int, 'Leading': int, 'Total':int})"
   ]
  },
  {
   "cell_type": "code",
   "execution_count": 62,
   "id": "31084623",
   "metadata": {},
   "outputs": [
    {
     "data": {
      "text/plain": [
       "543"
      ]
     },
     "execution_count": 62,
     "metadata": {},
     "output_type": "execute_result"
    }
   ],
   "source": [
    "df_whole['Total'].sum()"
   ]
  },
  {
   "cell_type": "code",
   "execution_count": 63,
   "id": "a16f51d1",
   "metadata": {
    "scrolled": true
   },
   "outputs": [
    {
     "data": {
      "text/plain": [
       "Party\n",
       "Bharatiya Janata Party - BJP                                             25\n",
       "Indian National Congress - INC                                           23\n",
       "Independent - IND                                                         6\n",
       "Communist Party of India (Marxist) - CPI(M)                               3\n",
       "Indian Union Muslim League - IUML                                         2\n",
       "Voice of the People Party - VOTPP                                         1\n",
       "Zoram People’s Movement - ZPM                                             1\n",
       "Aam Aadmi Party - AAAP                                                    1\n",
       "Shiromani Akali Dal - SAD                                                 1\n",
       "Rashtriya Loktantrik Party - RLTP                                         1\n",
       "Bharat Adivasi Party - BHRTADVSIP                                         1\n",
       "Sikkim Krantikari Morcha - SKM                                            1\n",
       "Dravida Munnetra Kazhagam - DMK                                           1\n",
       "Shiv Sena - SHS                                                           1\n",
       "Viduthalai Chiruthaigal Katchi - VCK                                      1\n",
       "Communist Party of India - CPI                                            1\n",
       "Marumalarchi Dravida Munnetra Kazhagam - MDMK                             1\n",
       "All India Majlis-E-Ittehadul Muslimeen - AIMIM                            1\n",
       "Samajwadi Party - SP                                                      1\n",
       "Rashtriya Lok Dal - RLD                                                   1\n",
       "Aazad Samaj Party (Kanshi Ram) - ASPKR                                    1\n",
       "Apna Dal (Soneylal) - ADAL                                                1\n",
       "Nationalist Congress Party - NCP                                          1\n",
       "Shiv Sena (Uddhav Balasaheb Thackrey) - SHSUBT                            1\n",
       "Nationalist Congress Party – Sharadchandra Pawar - NCPSP                  1\n",
       "Telugu Desam - TDP                                                        1\n",
       "Yuvajana Sramika Rythu Congress Party - YSRCP                             1\n",
       "Janasena Party - JnP                                                      1\n",
       "United People’s Party, Liberal - UPPL                                     1\n",
       "Asom Gana Parishad - AGP                                                  1\n",
       "Janata Dal (United) - JD(U)                                               1\n",
       "Lok Janshakti Party(Ram Vilas) - LJPRV                                    1\n",
       "Rashtriya Janata Dal - RJD                                                1\n",
       "Communist Party of India (Marxist-Leninist) (Liberation) - CPI(ML)(L)     1\n",
       "Hindustani Awam Morcha (Secular) - HAMS                                   1\n",
       "Jammu & Kashmir National Conference - JKN                                 1\n",
       "Jharkhand Mukti Morcha - JMM                                              1\n",
       "AJSU Party - AJSUP                                                        1\n",
       "Janata Dal (Secular) - JD(S)                                              1\n",
       "Kerala Congress - KEC                                                     1\n",
       "Revolutionary Socialist Party - RSP                                       1\n",
       "All India Trinamool Congress - AITC                                       1\n",
       "Name: count, dtype: int64"
      ]
     },
     "execution_count": 63,
     "metadata": {},
     "output_type": "execute_result"
    }
   ],
   "source": [
    "df_whole['Party'].value_counts()"
   ]
  },
  {
   "cell_type": "code",
   "execution_count": 68,
   "id": "65eb831d",
   "metadata": {
    "scrolled": true
   },
   "outputs": [
    {
     "data": {
      "text/plain": [
       "Leading\n",
       "0    96\n",
       "Name: count, dtype: int64"
      ]
     },
     "execution_count": 68,
     "metadata": {},
     "output_type": "execute_result"
    }
   ],
   "source": [
    "df_whole.Leading.value_counts()"
   ]
  },
  {
   "cell_type": "code",
   "execution_count": 70,
   "id": "427f4407",
   "metadata": {},
   "outputs": [
    {
     "data": {
      "text/plain": [
       "543"
      ]
     },
     "execution_count": 70,
     "metadata": {},
     "output_type": "execute_result"
    }
   ],
   "source": [
    "df_whole.Won.sum()"
   ]
  },
  {
   "cell_type": "code",
   "execution_count": 72,
   "id": "cf8eb734",
   "metadata": {},
   "outputs": [],
   "source": [
    "df_whole.drop(columns=['Leading', 'Total'], inplace=True)"
   ]
  },
  {
   "cell_type": "code",
   "execution_count": 73,
   "id": "111d8d20",
   "metadata": {},
   "outputs": [
    {
     "data": {
      "text/html": [
       "<div>\n",
       "<style scoped>\n",
       "    .dataframe tbody tr th:only-of-type {\n",
       "        vertical-align: middle;\n",
       "    }\n",
       "\n",
       "    .dataframe tbody tr th {\n",
       "        vertical-align: top;\n",
       "    }\n",
       "\n",
       "    .dataframe thead th {\n",
       "        text-align: right;\n",
       "    }\n",
       "</style>\n",
       "<table border=\"1\" class=\"dataframe\">\n",
       "  <thead>\n",
       "    <tr style=\"text-align: right;\">\n",
       "      <th></th>\n",
       "      <th>State</th>\n",
       "      <th>Party</th>\n",
       "      <th>Won</th>\n",
       "    </tr>\n",
       "  </thead>\n",
       "  <tbody>\n",
       "    <tr>\n",
       "      <th>0</th>\n",
       "      <td>Andaman &amp; Nicobar Islands</td>\n",
       "      <td>Bharatiya Janata Party - BJP</td>\n",
       "      <td>1</td>\n",
       "    </tr>\n",
       "    <tr>\n",
       "      <th>1</th>\n",
       "      <td>Andhra Pradesh</td>\n",
       "      <td>Telugu Desam - TDP</td>\n",
       "      <td>16</td>\n",
       "    </tr>\n",
       "    <tr>\n",
       "      <th>2</th>\n",
       "      <td>Andhra Pradesh</td>\n",
       "      <td>Yuvajana Sramika Rythu Congress Party - YSRCP</td>\n",
       "      <td>4</td>\n",
       "    </tr>\n",
       "    <tr>\n",
       "      <th>3</th>\n",
       "      <td>Andhra Pradesh</td>\n",
       "      <td>Bharatiya Janata Party - BJP</td>\n",
       "      <td>3</td>\n",
       "    </tr>\n",
       "    <tr>\n",
       "      <th>4</th>\n",
       "      <td>Andhra Pradesh</td>\n",
       "      <td>Janasena Party - JnP</td>\n",
       "      <td>2</td>\n",
       "    </tr>\n",
       "    <tr>\n",
       "      <th>...</th>\n",
       "      <td>...</td>\n",
       "      <td>...</td>\n",
       "      <td>...</td>\n",
       "    </tr>\n",
       "    <tr>\n",
       "      <th>91</th>\n",
       "      <td>Uttar Pradesh</td>\n",
       "      <td>Apna Dal (Soneylal) - ADAL</td>\n",
       "      <td>1</td>\n",
       "    </tr>\n",
       "    <tr>\n",
       "      <th>92</th>\n",
       "      <td>Uttarakhand</td>\n",
       "      <td>Bharatiya Janata Party - BJP</td>\n",
       "      <td>5</td>\n",
       "    </tr>\n",
       "    <tr>\n",
       "      <th>93</th>\n",
       "      <td>West Bengal</td>\n",
       "      <td>All India Trinamool Congress - AITC</td>\n",
       "      <td>29</td>\n",
       "    </tr>\n",
       "    <tr>\n",
       "      <th>94</th>\n",
       "      <td>West Bengal</td>\n",
       "      <td>Bharatiya Janata Party - BJP</td>\n",
       "      <td>12</td>\n",
       "    </tr>\n",
       "    <tr>\n",
       "      <th>95</th>\n",
       "      <td>West Bengal</td>\n",
       "      <td>Indian National Congress - INC</td>\n",
       "      <td>1</td>\n",
       "    </tr>\n",
       "  </tbody>\n",
       "</table>\n",
       "<p>96 rows × 3 columns</p>\n",
       "</div>"
      ],
      "text/plain": [
       "                        State                                          Party  \\\n",
       "0   Andaman & Nicobar Islands                   Bharatiya Janata Party - BJP   \n",
       "1              Andhra Pradesh                             Telugu Desam - TDP   \n",
       "2              Andhra Pradesh  Yuvajana Sramika Rythu Congress Party - YSRCP   \n",
       "3              Andhra Pradesh                   Bharatiya Janata Party - BJP   \n",
       "4              Andhra Pradesh                           Janasena Party - JnP   \n",
       "..                        ...                                            ...   \n",
       "91              Uttar Pradesh                     Apna Dal (Soneylal) - ADAL   \n",
       "92                Uttarakhand                   Bharatiya Janata Party - BJP   \n",
       "93                West Bengal            All India Trinamool Congress - AITC   \n",
       "94                West Bengal                   Bharatiya Janata Party - BJP   \n",
       "95                West Bengal                 Indian National Congress - INC   \n",
       "\n",
       "    Won  \n",
       "0     1  \n",
       "1    16  \n",
       "2     4  \n",
       "3     3  \n",
       "4     2  \n",
       "..  ...  \n",
       "91    1  \n",
       "92    5  \n",
       "93   29  \n",
       "94   12  \n",
       "95    1  \n",
       "\n",
       "[96 rows x 3 columns]"
      ]
     },
     "execution_count": 73,
     "metadata": {},
     "output_type": "execute_result"
    }
   ],
   "source": [
    "df_whole"
   ]
  },
  {
   "cell_type": "code",
   "execution_count": 86,
   "id": "a2e12295",
   "metadata": {},
   "outputs": [],
   "source": [
    "df_whole['Party']=df_whole['Party'].apply(lambda x: str(x).split('-')[-1].strip())"
   ]
  },
  {
   "cell_type": "code",
   "execution_count": 88,
   "id": "8a1ff764",
   "metadata": {},
   "outputs": [],
   "source": [
    "df_whole.to_csv('Statewise_Partywise_Election_Results.csv', index=False)"
   ]
  },
  {
   "cell_type": "code",
   "execution_count": null,
   "id": "42acd321",
   "metadata": {},
   "outputs": [],
   "source": []
  }
 ],
 "metadata": {
  "kernelspec": {
   "display_name": "Python 3 (ipykernel)",
   "language": "python",
   "name": "python3"
  },
  "language_info": {
   "codemirror_mode": {
    "name": "ipython",
    "version": 3
   },
   "file_extension": ".py",
   "mimetype": "text/x-python",
   "name": "python",
   "nbconvert_exporter": "python",
   "pygments_lexer": "ipython3",
   "version": "3.11.5"
  }
 },
 "nbformat": 4,
 "nbformat_minor": 5
}
